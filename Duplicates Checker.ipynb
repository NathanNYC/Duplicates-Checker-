{
 "cells": [
  {
   "cell_type": "code",
   "execution_count": 9,
   "metadata": {},
   "outputs": [
    {
     "name": "stdout",
     "output_type": "stream",
     "text": [
      "is: is a duplicate\n",
      "there: is a duplicate\n",
      "-----------------\n",
      "The list of Duplicates:\n",
      "['is', 'there']\n",
      "There are 2 duplicates\n"
     ]
    }
   ],
   "source": [
    "#duplicates checker \n",
    "\n",
    "list=['there','is','a','world','outsde','is','there']\n",
    "check=[]\n",
    "duplicates=[]\n",
    "\n",
    "\n",
    "for word in list: \n",
    "    if word not in check:\n",
    "        check.append(word)\n",
    "    else: \n",
    "        print(word + \": is a duplicate\")\n",
    "        duplicates.append(word)\n",
    " \n",
    "print(\"-----------------\")\n",
    "print(\"The list of Duplicates:\")\n",
    "print(duplicates)\n",
    "duplicateLength=len(duplicates)\n",
    "print(\"There are\", duplicateLength, \"duplicates\")\n",
    "        "
   ]
  }
 ],
 "metadata": {
  "kernelspec": {
   "display_name": "Python 3",
   "language": "python",
   "name": "python3"
  },
  "language_info": {
   "codemirror_mode": {
    "name": "ipython",
    "version": 3
   },
   "file_extension": ".py",
   "mimetype": "text/x-python",
   "name": "python",
   "nbconvert_exporter": "python",
   "pygments_lexer": "ipython3",
   "version": "3.7.0"
  }
 },
 "nbformat": 4,
 "nbformat_minor": 2
}
